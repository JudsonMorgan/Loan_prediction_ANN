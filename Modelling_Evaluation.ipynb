{
  "nbformat": 4,
  "nbformat_minor": 0,
  "metadata": {
    "colab": {
      "provenance": []
    },
    "kernelspec": {
      "name": "python3",
      "display_name": "Python 3"
    },
    "language_info": {
      "name": "python"
    }
  },
  "cells": [
    {
      "cell_type": "code",
      "execution_count": 2,
      "metadata": {
        "id": "77C62jFCvqMx"
      },
      "outputs": [],
      "source": [
        "import numpy as np\n",
        "import tensorflow as tf"
      ]
    },
    {
      "cell_type": "code",
      "source": [
        "from google.colab import drive\n",
        "drive.mount('/content/drive')"
      ],
      "metadata": {
        "colab": {
          "base_uri": "https://localhost:8080/"
        },
        "id": "T-rgqYh0v0fb",
        "outputId": "74760153-da71-4dd7-c757-3257c081d421"
      },
      "execution_count": null,
      "outputs": [
        {
          "output_type": "stream",
          "name": "stdout",
          "text": [
            "Drive already mounted at /content/drive; to attempt to forcibly remount, call drive.mount(\"/content/drive\", force_remount=True).\n"
          ]
        }
      ]
    },
    {
      "cell_type": "markdown",
      "source": [
        "### Load the data"
      ],
      "metadata": {
        "id": "_d8dWpUcwIRN"
      }
    },
    {
      "cell_type": "code",
      "source": [
        "npz = np.load('/content/drive/MyDrive/Dataset/train_loan_data.npz')\n",
        "\n",
        "train_input = npz['inputs'].astype(np.float)\n",
        "train_target  = npz['target'].astype(np.int)\n",
        "\n",
        "npz = np.load('/content/drive/MyDrive/Dataset/val_loan_data.npz')\n",
        "\n",
        "validation_input, validation_target  = npz['inputs'].astype(np.float), npz['target'].astype(np.int)\n",
        "\n",
        "npz = np.load('/content/drive/MyDrive/Dataset/test_loan_data.npz')\n",
        "\n",
        "test_input, test_target = npz['inputs'].astype(np.float), npz['target'].astype(np.int)"
      ],
      "metadata": {
        "colab": {
          "base_uri": "https://localhost:8080/"
        },
        "id": "cMKg2wzEv7h0",
        "outputId": "f388b752-dfc2-417f-ba68-07533106d79e"
      },
      "execution_count": 3,
      "outputs": [
        {
          "output_type": "stream",
          "name": "stderr",
          "text": [
            "<ipython-input-3-503b16cc0672>:3: DeprecationWarning: `np.float` is a deprecated alias for the builtin `float`. To silence this warning, use `float` by itself. Doing this will not modify any behavior and is safe. If you specifically wanted the numpy scalar type, use `np.float64` here.\n",
            "Deprecated in NumPy 1.20; for more details and guidance: https://numpy.org/devdocs/release/1.20.0-notes.html#deprecations\n",
            "  train_input = npz['inputs'].astype(np.float)\n",
            "<ipython-input-3-503b16cc0672>:4: DeprecationWarning: `np.int` is a deprecated alias for the builtin `int`. To silence this warning, use `int` by itself. Doing this will not modify any behavior and is safe. When replacing `np.int`, you may wish to use e.g. `np.int64` or `np.int32` to specify the precision. If you wish to review your current use, check the release note link for additional information.\n",
            "Deprecated in NumPy 1.20; for more details and guidance: https://numpy.org/devdocs/release/1.20.0-notes.html#deprecations\n",
            "  train_target  = npz['target'].astype(np.int)\n",
            "<ipython-input-3-503b16cc0672>:8: DeprecationWarning: `np.float` is a deprecated alias for the builtin `float`. To silence this warning, use `float` by itself. Doing this will not modify any behavior and is safe. If you specifically wanted the numpy scalar type, use `np.float64` here.\n",
            "Deprecated in NumPy 1.20; for more details and guidance: https://numpy.org/devdocs/release/1.20.0-notes.html#deprecations\n",
            "  validation_input, validation_target  = npz['inputs'].astype(np.float), npz['target'].astype(np.int)\n",
            "<ipython-input-3-503b16cc0672>:8: DeprecationWarning: `np.int` is a deprecated alias for the builtin `int`. To silence this warning, use `int` by itself. Doing this will not modify any behavior and is safe. When replacing `np.int`, you may wish to use e.g. `np.int64` or `np.int32` to specify the precision. If you wish to review your current use, check the release note link for additional information.\n",
            "Deprecated in NumPy 1.20; for more details and guidance: https://numpy.org/devdocs/release/1.20.0-notes.html#deprecations\n",
            "  validation_input, validation_target  = npz['inputs'].astype(np.float), npz['target'].astype(np.int)\n",
            "<ipython-input-3-503b16cc0672>:12: DeprecationWarning: `np.float` is a deprecated alias for the builtin `float`. To silence this warning, use `float` by itself. Doing this will not modify any behavior and is safe. If you specifically wanted the numpy scalar type, use `np.float64` here.\n",
            "Deprecated in NumPy 1.20; for more details and guidance: https://numpy.org/devdocs/release/1.20.0-notes.html#deprecations\n",
            "  test_input, test_target = npz['inputs'].astype(np.float), npz['target'].astype(np.int)\n",
            "<ipython-input-3-503b16cc0672>:12: DeprecationWarning: `np.int` is a deprecated alias for the builtin `int`. To silence this warning, use `int` by itself. Doing this will not modify any behavior and is safe. When replacing `np.int`, you may wish to use e.g. `np.int64` or `np.int32` to specify the precision. If you wish to review your current use, check the release note link for additional information.\n",
            "Deprecated in NumPy 1.20; for more details and guidance: https://numpy.org/devdocs/release/1.20.0-notes.html#deprecations\n",
            "  test_input, test_target = npz['inputs'].astype(np.float), npz['target'].astype(np.int)\n"
          ]
        }
      ]
    },
    {
      "cell_type": "markdown",
      "source": [
        "### Modeling"
      ],
      "metadata": {
        "id": "qUaiEmTnyNm2"
      }
    },
    {
      "cell_type": "code",
      "source": [
        "input_size = 11\n",
        "output_size = 2\n",
        "hidden_layer_size = 50\n",
        "batch_size = 100\n",
        "max_epochs = 100\n",
        "early_stopping = tf.keras.callbacks.EarlyStopping(patience=2)\n",
        "\n",
        "model = tf.keras.Sequential([\n",
        "    \n",
        "      tf.keras.layers.Dense(hidden_layer_size, activation ='relu'),\n",
        "      tf.keras.layers.Dense(hidden_layer_size, activation = 'relu'),\n",
        "      tf.keras.layers.Dense(hidden_layer_size, activation = 'relu'),\n",
        "      tf.keras.layers.Dense(output_size, activation = 'softmax')\n",
        "\n",
        "])\n",
        "\n",
        "model.compile(optimizer = 'adam',\n",
        "              loss = 'sparse_categorical_crossentropy',\n",
        "              metrics = ['accuracy'])\n",
        "\n",
        "model.fit(train_input,\n",
        "          train_target,\n",
        "          epochs = max_epochs,\n",
        "          batch_size = batch_size,\n",
        "          validation_data = (validation_input, validation_target),\n",
        "          callbacks = [early_stopping],\n",
        "          verbose = 2)\n"
      ],
      "metadata": {
        "id": "CkYmdvetw9Vc",
        "colab": {
          "base_uri": "https://localhost:8080/"
        },
        "outputId": "ce83851f-adc0-4da3-a34b-266ff32ed49a"
      },
      "execution_count": 4,
      "outputs": [
        {
          "output_type": "stream",
          "name": "stdout",
          "text": [
            "Epoch 1/100\n",
            "496/496 - 1s - loss: 0.6830 - accuracy: 0.5584 - val_loss: 0.6768 - val_accuracy: 0.5743 - 1s/epoch - 2ms/step\n",
            "Epoch 2/100\n",
            "496/496 - 1s - loss: 0.6659 - accuracy: 0.5968 - val_loss: 0.6615 - val_accuracy: 0.5945 - 719ms/epoch - 1ms/step\n",
            "Epoch 3/100\n",
            "496/496 - 1s - loss: 0.6465 - accuracy: 0.6265 - val_loss: 0.6545 - val_accuracy: 0.6182 - 661ms/epoch - 1ms/step\n",
            "Epoch 4/100\n",
            "496/496 - 1s - loss: 0.6254 - accuracy: 0.6544 - val_loss: 0.6249 - val_accuracy: 0.6545 - 693ms/epoch - 1ms/step\n",
            "Epoch 5/100\n",
            "496/496 - 1s - loss: 0.6035 - accuracy: 0.6791 - val_loss: 0.6146 - val_accuracy: 0.6751 - 648ms/epoch - 1ms/step\n",
            "Epoch 6/100\n",
            "496/496 - 1s - loss: 0.5866 - accuracy: 0.6952 - val_loss: 0.5919 - val_accuracy: 0.6933 - 634ms/epoch - 1ms/step\n",
            "Epoch 7/100\n",
            "496/496 - 1s - loss: 0.5683 - accuracy: 0.7147 - val_loss: 0.5856 - val_accuracy: 0.7029 - 671ms/epoch - 1ms/step\n",
            "Epoch 8/100\n",
            "496/496 - 1s - loss: 0.5546 - accuracy: 0.7274 - val_loss: 0.5724 - val_accuracy: 0.7096 - 661ms/epoch - 1ms/step\n",
            "Epoch 9/100\n",
            "496/496 - 1s - loss: 0.5414 - accuracy: 0.7396 - val_loss: 0.5610 - val_accuracy: 0.7246 - 634ms/epoch - 1ms/step\n",
            "Epoch 10/100\n",
            "496/496 - 1s - loss: 0.5306 - accuracy: 0.7489 - val_loss: 0.5512 - val_accuracy: 0.7317 - 682ms/epoch - 1ms/step\n",
            "Epoch 11/100\n",
            "496/496 - 1s - loss: 0.5198 - accuracy: 0.7599 - val_loss: 0.5559 - val_accuracy: 0.7340 - 740ms/epoch - 1ms/step\n",
            "Epoch 12/100\n",
            "496/496 - 1s - loss: 0.5103 - accuracy: 0.7652 - val_loss: 0.5375 - val_accuracy: 0.7558 - 659ms/epoch - 1ms/step\n",
            "Epoch 13/100\n",
            "496/496 - 1s - loss: 0.5008 - accuracy: 0.7738 - val_loss: 0.5321 - val_accuracy: 0.7551 - 687ms/epoch - 1ms/step\n",
            "Epoch 14/100\n",
            "496/496 - 1s - loss: 0.4929 - accuracy: 0.7806 - val_loss: 0.5298 - val_accuracy: 0.7604 - 670ms/epoch - 1ms/step\n",
            "Epoch 15/100\n",
            "496/496 - 1s - loss: 0.4858 - accuracy: 0.7854 - val_loss: 0.5238 - val_accuracy: 0.7667 - 635ms/epoch - 1ms/step\n",
            "Epoch 16/100\n",
            "496/496 - 1s - loss: 0.4810 - accuracy: 0.7888 - val_loss: 0.5194 - val_accuracy: 0.7688 - 650ms/epoch - 1ms/step\n",
            "Epoch 17/100\n",
            "496/496 - 1s - loss: 0.4741 - accuracy: 0.7944 - val_loss: 0.5135 - val_accuracy: 0.7713 - 672ms/epoch - 1ms/step\n",
            "Epoch 18/100\n",
            "496/496 - 1s - loss: 0.4674 - accuracy: 0.8004 - val_loss: 0.5092 - val_accuracy: 0.7769 - 661ms/epoch - 1ms/step\n",
            "Epoch 19/100\n",
            "496/496 - 1s - loss: 0.4619 - accuracy: 0.8046 - val_loss: 0.5053 - val_accuracy: 0.7858 - 653ms/epoch - 1ms/step\n",
            "Epoch 20/100\n",
            "496/496 - 1s - loss: 0.4583 - accuracy: 0.8052 - val_loss: 0.5051 - val_accuracy: 0.7813 - 661ms/epoch - 1ms/step\n",
            "Epoch 21/100\n",
            "496/496 - 1s - loss: 0.4527 - accuracy: 0.8107 - val_loss: 0.5084 - val_accuracy: 0.7753 - 658ms/epoch - 1ms/step\n",
            "Epoch 22/100\n",
            "496/496 - 1s - loss: 0.4499 - accuracy: 0.8113 - val_loss: 0.5093 - val_accuracy: 0.7872 - 647ms/epoch - 1ms/step\n"
          ]
        },
        {
          "output_type": "execute_result",
          "data": {
            "text/plain": [
              "<keras.callbacks.History at 0x7fdba38c7eb0>"
            ]
          },
          "metadata": {},
          "execution_count": 4
        }
      ]
    },
    {
      "cell_type": "markdown",
      "source": [
        "### Evaluation"
      ],
      "metadata": {
        "id": "k0FH-SfG1oZP"
      }
    },
    {
      "cell_type": "code",
      "source": [
        "loss, accuracy = model.evaluate(test_input, test_target)\n",
        "print(\"\\n Test loss : {0:.2f}, Test accuracy: {1:.2f}%\".format(loss, accuracy))"
      ],
      "metadata": {
        "colab": {
          "base_uri": "https://localhost:8080/"
        },
        "id": "pW3Fyu0nz8iM",
        "outputId": "acc00403-f623-4d3c-82d8-407b01dfdb16"
      },
      "execution_count": 5,
      "outputs": [
        {
          "output_type": "stream",
          "name": "stdout",
          "text": [
            "194/194 [==============================] - 0s 905us/step - loss: 0.5063 - accuracy: 0.7956\n",
            "\n",
            " Test loss : 0.51, Test accuracy: 0.80%\n"
          ]
        }
      ]
    },
    {
      "cell_type": "markdown",
      "source": [
        "### Hyperparameter tuning"
      ],
      "metadata": {
        "id": "H9DCHYYp2GbP"
      }
    },
    {
      "cell_type": "code",
      "source": [
        "optimizer = tf.keras.optimizers.Adam(learning_rate=0.001)\n",
        "batch_size = 32\n",
        "max_epochs = 100\n",
        "hidden_layer_size = 100\n",
        "early_stopping = tf.keras.callbacks.EarlyStopping(patience=2)\n",
        "\n",
        "model = tf.keras.Sequential([\n",
        "    \n",
        "      tf.keras.layers.Dense(hidden_layer_size, activation ='relu'),\n",
        "      tf.keras.layers.Dense(hidden_layer_size, activation = 'relu'),\n",
        "      tf.keras.layers.Dense(hidden_layer_size, activation = 'relu'),\n",
        "      tf.keras.layers.Dense(hidden_layer_size, activation = 'relu'),\n",
        "      tf.keras.layers.Dense(hidden_layer_size, activation = 'relu'),\n",
        "      tf.keras.layers.Dense(output_size, activation = 'softmax')\n",
        "\n",
        "])\n",
        "\n",
        "model.compile(optimizer=optimizer,\n",
        "              loss='sparse_categorical_crossentropy',\n",
        "              metrics=['accuracy'])\n",
        "\n",
        "model.fit(train_input,\n",
        "          train_target,\n",
        "          epochs = max_epochs,\n",
        "          batch_size = batch_size,\n",
        "          validation_data = (validation_input, validation_target),\n",
        "          callbacks = [early_stopping],\n",
        "          verbose = 2)\n",
        "\n"
      ],
      "metadata": {
        "colab": {
          "base_uri": "https://localhost:8080/"
        },
        "id": "tjvbbBHz1_1z",
        "outputId": "f03095a7-feb4-450f-a766-550136175062"
      },
      "execution_count": 6,
      "outputs": [
        {
          "output_type": "stream",
          "name": "stdout",
          "text": [
            "Epoch 1/100\n",
            "1550/1550 - 3s - loss: 0.6816 - accuracy: 0.5603 - val_loss: 0.6673 - val_accuracy: 0.5870 - 3s/epoch - 2ms/step\n",
            "Epoch 2/100\n",
            "1550/1550 - 3s - loss: 0.6413 - accuracy: 0.6361 - val_loss: 0.6148 - val_accuracy: 0.6698 - 3s/epoch - 2ms/step\n",
            "Epoch 3/100\n",
            "1550/1550 - 3s - loss: 0.5735 - accuracy: 0.7065 - val_loss: 0.5476 - val_accuracy: 0.7316 - 3s/epoch - 2ms/step\n",
            "Epoch 4/100\n",
            "1550/1550 - 3s - loss: 0.5058 - accuracy: 0.7646 - val_loss: 0.4997 - val_accuracy: 0.7809 - 3s/epoch - 2ms/step\n",
            "Epoch 5/100\n",
            "1550/1550 - 3s - loss: 0.4559 - accuracy: 0.8018 - val_loss: 0.4821 - val_accuracy: 0.7895 - 3s/epoch - 2ms/step\n",
            "Epoch 6/100\n",
            "1550/1550 - 3s - loss: 0.4177 - accuracy: 0.8255 - val_loss: 0.4635 - val_accuracy: 0.8005 - 3s/epoch - 2ms/step\n",
            "Epoch 7/100\n",
            "1550/1550 - 3s - loss: 0.3935 - accuracy: 0.8409 - val_loss: 0.4372 - val_accuracy: 0.8227 - 3s/epoch - 2ms/step\n",
            "Epoch 8/100\n",
            "1550/1550 - 3s - loss: 0.3691 - accuracy: 0.8532 - val_loss: 0.4163 - val_accuracy: 0.8416 - 3s/epoch - 2ms/step\n",
            "Epoch 9/100\n",
            "1550/1550 - 3s - loss: 0.3512 - accuracy: 0.8650 - val_loss: 0.3911 - val_accuracy: 0.8563 - 3s/epoch - 2ms/step\n",
            "Epoch 10/100\n",
            "1550/1550 - 3s - loss: 0.3332 - accuracy: 0.8723 - val_loss: 0.3987 - val_accuracy: 0.8532 - 3s/epoch - 2ms/step\n",
            "Epoch 11/100\n",
            "1550/1550 - 3s - loss: 0.3187 - accuracy: 0.8801 - val_loss: 0.3888 - val_accuracy: 0.8650 - 3s/epoch - 2ms/step\n",
            "Epoch 12/100\n",
            "1550/1550 - 3s - loss: 0.3037 - accuracy: 0.8885 - val_loss: 0.4022 - val_accuracy: 0.8545 - 3s/epoch - 2ms/step\n",
            "Epoch 13/100\n",
            "1550/1550 - 3s - loss: 0.2944 - accuracy: 0.8920 - val_loss: 0.3814 - val_accuracy: 0.8719 - 3s/epoch - 2ms/step\n",
            "Epoch 14/100\n",
            "1550/1550 - 3s - loss: 0.2817 - accuracy: 0.8967 - val_loss: 0.3876 - val_accuracy: 0.8687 - 3s/epoch - 2ms/step\n",
            "Epoch 15/100\n",
            "1550/1550 - 3s - loss: 0.2736 - accuracy: 0.9013 - val_loss: 0.3835 - val_accuracy: 0.8750 - 3s/epoch - 2ms/step\n"
          ]
        },
        {
          "output_type": "execute_result",
          "data": {
            "text/plain": [
              "<keras.callbacks.History at 0x7fdb9d890310>"
            ]
          },
          "metadata": {},
          "execution_count": 6
        }
      ]
    },
    {
      "cell_type": "code",
      "source": [
        "loss, accuracy = model.evaluate(test_input, test_target)\n",
        "print('\\n Test loss: {0:.2f}. Test accuracy: {1:.2f}%'.format(loss, accuracy))"
      ],
      "metadata": {
        "colab": {
          "base_uri": "https://localhost:8080/"
        },
        "id": "f7nrwaSQ3C7r",
        "outputId": "5305d68b-0f1c-4ec9-a15e-2fa701668982"
      },
      "execution_count": 7,
      "outputs": [
        {
          "output_type": "stream",
          "name": "stdout",
          "text": [
            "194/194 [==============================] - 0s 978us/step - loss: 0.3853 - accuracy: 0.8702\n",
            "\n",
            " Test loss: 0.39. Test accuracy: 0.87%\n"
          ]
        }
      ]
    },
    {
      "cell_type": "code",
      "source": [],
      "metadata": {
        "id": "oFtwO3KD5HcT"
      },
      "execution_count": 7,
      "outputs": []
    }
  ]
}