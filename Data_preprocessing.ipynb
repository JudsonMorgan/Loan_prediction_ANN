{
  "nbformat": 4,
  "nbformat_minor": 0,
  "metadata": {
    "colab": {
      "provenance": []
    },
    "kernelspec": {
      "name": "python3",
      "display_name": "Python 3"
    },
    "language_info": {
      "name": "python"
    }
  },
  "cells": [
    {
      "cell_type": "code",
      "execution_count": 1,
      "metadata": {
        "id": "GdjKh2d0XTZ9"
      },
      "outputs": [],
      "source": [
        "import numpy as np\n",
        "import pandas as pd\n",
        "import seaborn as sns\n",
        "from sklearn import preprocessing\n",
        "from sklearn.preprocessing import LabelEncoder"
      ]
    },
    {
      "cell_type": "code",
      "source": [
        "data = pd.read_csv('/content/drive/MyDrive/Dataset/Training Data.csv')\n",
        "\n",
        "data.head()"
      ],
      "metadata": {
        "colab": {
          "base_uri": "https://localhost:8080/",
          "height": 270
        },
        "id": "CStdTZCqeNi5",
        "outputId": "3b9c8041-3ead-4c64-b556-cbef2c278efe"
      },
      "execution_count": 2,
      "outputs": [
        {
          "output_type": "execute_result",
          "data": {
            "text/plain": [
              "   Id   Income  Age  Experience Married/Single House_Ownership Car_Ownership  \\\n",
              "0   1  1303834   23           3         single          rented            no   \n",
              "1   2  7574516   40          10         single          rented            no   \n",
              "2   3  3991815   66           4        married          rented            no   \n",
              "3   4  6256451   41           2         single          rented           yes   \n",
              "4   5  5768871   47          11         single          rented            no   \n",
              "\n",
              "            Profession                 CITY           STATE  CURRENT_JOB_YRS  \\\n",
              "0  Mechanical_engineer                 Rewa  Madhya_Pradesh                3   \n",
              "1   Software_Developer             Parbhani     Maharashtra                9   \n",
              "2     Technical_writer            Alappuzha          Kerala                4   \n",
              "3   Software_Developer          Bhubaneswar          Odisha                2   \n",
              "4        Civil_servant  Tiruchirappalli[10]      Tamil_Nadu                3   \n",
              "\n",
              "   CURRENT_HOUSE_YRS  Risk_Flag  \n",
              "0                 13          0  \n",
              "1                 13          0  \n",
              "2                 10          0  \n",
              "3                 12          1  \n",
              "4                 14          1  "
            ],
            "text/html": [
              "\n",
              "  <div id=\"df-7d95f268-2f13-488d-8c47-229d81a395f1\">\n",
              "    <div class=\"colab-df-container\">\n",
              "      <div>\n",
              "<style scoped>\n",
              "    .dataframe tbody tr th:only-of-type {\n",
              "        vertical-align: middle;\n",
              "    }\n",
              "\n",
              "    .dataframe tbody tr th {\n",
              "        vertical-align: top;\n",
              "    }\n",
              "\n",
              "    .dataframe thead th {\n",
              "        text-align: right;\n",
              "    }\n",
              "</style>\n",
              "<table border=\"1\" class=\"dataframe\">\n",
              "  <thead>\n",
              "    <tr style=\"text-align: right;\">\n",
              "      <th></th>\n",
              "      <th>Id</th>\n",
              "      <th>Income</th>\n",
              "      <th>Age</th>\n",
              "      <th>Experience</th>\n",
              "      <th>Married/Single</th>\n",
              "      <th>House_Ownership</th>\n",
              "      <th>Car_Ownership</th>\n",
              "      <th>Profession</th>\n",
              "      <th>CITY</th>\n",
              "      <th>STATE</th>\n",
              "      <th>CURRENT_JOB_YRS</th>\n",
              "      <th>CURRENT_HOUSE_YRS</th>\n",
              "      <th>Risk_Flag</th>\n",
              "    </tr>\n",
              "  </thead>\n",
              "  <tbody>\n",
              "    <tr>\n",
              "      <th>0</th>\n",
              "      <td>1</td>\n",
              "      <td>1303834</td>\n",
              "      <td>23</td>\n",
              "      <td>3</td>\n",
              "      <td>single</td>\n",
              "      <td>rented</td>\n",
              "      <td>no</td>\n",
              "      <td>Mechanical_engineer</td>\n",
              "      <td>Rewa</td>\n",
              "      <td>Madhya_Pradesh</td>\n",
              "      <td>3</td>\n",
              "      <td>13</td>\n",
              "      <td>0</td>\n",
              "    </tr>\n",
              "    <tr>\n",
              "      <th>1</th>\n",
              "      <td>2</td>\n",
              "      <td>7574516</td>\n",
              "      <td>40</td>\n",
              "      <td>10</td>\n",
              "      <td>single</td>\n",
              "      <td>rented</td>\n",
              "      <td>no</td>\n",
              "      <td>Software_Developer</td>\n",
              "      <td>Parbhani</td>\n",
              "      <td>Maharashtra</td>\n",
              "      <td>9</td>\n",
              "      <td>13</td>\n",
              "      <td>0</td>\n",
              "    </tr>\n",
              "    <tr>\n",
              "      <th>2</th>\n",
              "      <td>3</td>\n",
              "      <td>3991815</td>\n",
              "      <td>66</td>\n",
              "      <td>4</td>\n",
              "      <td>married</td>\n",
              "      <td>rented</td>\n",
              "      <td>no</td>\n",
              "      <td>Technical_writer</td>\n",
              "      <td>Alappuzha</td>\n",
              "      <td>Kerala</td>\n",
              "      <td>4</td>\n",
              "      <td>10</td>\n",
              "      <td>0</td>\n",
              "    </tr>\n",
              "    <tr>\n",
              "      <th>3</th>\n",
              "      <td>4</td>\n",
              "      <td>6256451</td>\n",
              "      <td>41</td>\n",
              "      <td>2</td>\n",
              "      <td>single</td>\n",
              "      <td>rented</td>\n",
              "      <td>yes</td>\n",
              "      <td>Software_Developer</td>\n",
              "      <td>Bhubaneswar</td>\n",
              "      <td>Odisha</td>\n",
              "      <td>2</td>\n",
              "      <td>12</td>\n",
              "      <td>1</td>\n",
              "    </tr>\n",
              "    <tr>\n",
              "      <th>4</th>\n",
              "      <td>5</td>\n",
              "      <td>5768871</td>\n",
              "      <td>47</td>\n",
              "      <td>11</td>\n",
              "      <td>single</td>\n",
              "      <td>rented</td>\n",
              "      <td>no</td>\n",
              "      <td>Civil_servant</td>\n",
              "      <td>Tiruchirappalli[10]</td>\n",
              "      <td>Tamil_Nadu</td>\n",
              "      <td>3</td>\n",
              "      <td>14</td>\n",
              "      <td>1</td>\n",
              "    </tr>\n",
              "  </tbody>\n",
              "</table>\n",
              "</div>\n",
              "      <button class=\"colab-df-convert\" onclick=\"convertToInteractive('df-7d95f268-2f13-488d-8c47-229d81a395f1')\"\n",
              "              title=\"Convert this dataframe to an interactive table.\"\n",
              "              style=\"display:none;\">\n",
              "        \n",
              "  <svg xmlns=\"http://www.w3.org/2000/svg\" height=\"24px\"viewBox=\"0 0 24 24\"\n",
              "       width=\"24px\">\n",
              "    <path d=\"M0 0h24v24H0V0z\" fill=\"none\"/>\n",
              "    <path d=\"M18.56 5.44l.94 2.06.94-2.06 2.06-.94-2.06-.94-.94-2.06-.94 2.06-2.06.94zm-11 1L8.5 8.5l.94-2.06 2.06-.94-2.06-.94L8.5 2.5l-.94 2.06-2.06.94zm10 10l.94 2.06.94-2.06 2.06-.94-2.06-.94-.94-2.06-.94 2.06-2.06.94z\"/><path d=\"M17.41 7.96l-1.37-1.37c-.4-.4-.92-.59-1.43-.59-.52 0-1.04.2-1.43.59L10.3 9.45l-7.72 7.72c-.78.78-.78 2.05 0 2.83L4 21.41c.39.39.9.59 1.41.59.51 0 1.02-.2 1.41-.59l7.78-7.78 2.81-2.81c.8-.78.8-2.07 0-2.86zM5.41 20L4 18.59l7.72-7.72 1.47 1.35L5.41 20z\"/>\n",
              "  </svg>\n",
              "      </button>\n",
              "      \n",
              "  <style>\n",
              "    .colab-df-container {\n",
              "      display:flex;\n",
              "      flex-wrap:wrap;\n",
              "      gap: 12px;\n",
              "    }\n",
              "\n",
              "    .colab-df-convert {\n",
              "      background-color: #E8F0FE;\n",
              "      border: none;\n",
              "      border-radius: 50%;\n",
              "      cursor: pointer;\n",
              "      display: none;\n",
              "      fill: #1967D2;\n",
              "      height: 32px;\n",
              "      padding: 0 0 0 0;\n",
              "      width: 32px;\n",
              "    }\n",
              "\n",
              "    .colab-df-convert:hover {\n",
              "      background-color: #E2EBFA;\n",
              "      box-shadow: 0px 1px 2px rgba(60, 64, 67, 0.3), 0px 1px 3px 1px rgba(60, 64, 67, 0.15);\n",
              "      fill: #174EA6;\n",
              "    }\n",
              "\n",
              "    [theme=dark] .colab-df-convert {\n",
              "      background-color: #3B4455;\n",
              "      fill: #D2E3FC;\n",
              "    }\n",
              "\n",
              "    [theme=dark] .colab-df-convert:hover {\n",
              "      background-color: #434B5C;\n",
              "      box-shadow: 0px 1px 3px 1px rgba(0, 0, 0, 0.15);\n",
              "      filter: drop-shadow(0px 1px 2px rgba(0, 0, 0, 0.3));\n",
              "      fill: #FFFFFF;\n",
              "    }\n",
              "  </style>\n",
              "\n",
              "      <script>\n",
              "        const buttonEl =\n",
              "          document.querySelector('#df-7d95f268-2f13-488d-8c47-229d81a395f1 button.colab-df-convert');\n",
              "        buttonEl.style.display =\n",
              "          google.colab.kernel.accessAllowed ? 'block' : 'none';\n",
              "\n",
              "        async function convertToInteractive(key) {\n",
              "          const element = document.querySelector('#df-7d95f268-2f13-488d-8c47-229d81a395f1');\n",
              "          const dataTable =\n",
              "            await google.colab.kernel.invokeFunction('convertToInteractive',\n",
              "                                                     [key], {});\n",
              "          if (!dataTable) return;\n",
              "\n",
              "          const docLinkHtml = 'Like what you see? Visit the ' +\n",
              "            '<a target=\"_blank\" href=https://colab.research.google.com/notebooks/data_table.ipynb>data table notebook</a>'\n",
              "            + ' to learn more about interactive tables.';\n",
              "          element.innerHTML = '';\n",
              "          dataTable['output_type'] = 'display_data';\n",
              "          await google.colab.output.renderOutput(dataTable, element);\n",
              "          const docLink = document.createElement('div');\n",
              "          docLink.innerHTML = docLinkHtml;\n",
              "          element.appendChild(docLink);\n",
              "        }\n",
              "      </script>\n",
              "    </div>\n",
              "  </div>\n",
              "  "
            ]
          },
          "metadata": {},
          "execution_count": 2
        }
      ]
    },
    {
      "cell_type": "code",
      "source": [
        "data.shape"
      ],
      "metadata": {
        "colab": {
          "base_uri": "https://localhost:8080/"
        },
        "id": "KUTCmNl9ebVy",
        "outputId": "443204b6-eaab-459b-b853-f2875204665a"
      },
      "execution_count": 3,
      "outputs": [
        {
          "output_type": "execute_result",
          "data": {
            "text/plain": [
              "(252000, 13)"
            ]
          },
          "metadata": {},
          "execution_count": 3
        }
      ]
    },
    {
      "cell_type": "code",
      "source": [
        "data.info()"
      ],
      "metadata": {
        "colab": {
          "base_uri": "https://localhost:8080/"
        },
        "id": "4JR3PFpUedi1",
        "outputId": "fc2caec6-47a7-477a-913d-2d28988997d6"
      },
      "execution_count": 4,
      "outputs": [
        {
          "output_type": "stream",
          "name": "stdout",
          "text": [
            "<class 'pandas.core.frame.DataFrame'>\n",
            "RangeIndex: 252000 entries, 0 to 251999\n",
            "Data columns (total 13 columns):\n",
            " #   Column             Non-Null Count   Dtype \n",
            "---  ------             --------------   ----- \n",
            " 0   Id                 252000 non-null  int64 \n",
            " 1   Income             252000 non-null  int64 \n",
            " 2   Age                252000 non-null  int64 \n",
            " 3   Experience         252000 non-null  int64 \n",
            " 4   Married/Single     252000 non-null  object\n",
            " 5   House_Ownership    252000 non-null  object\n",
            " 6   Car_Ownership      252000 non-null  object\n",
            " 7   Profession         252000 non-null  object\n",
            " 8   CITY               252000 non-null  object\n",
            " 9   STATE              252000 non-null  object\n",
            " 10  CURRENT_JOB_YRS    252000 non-null  int64 \n",
            " 11  CURRENT_HOUSE_YRS  252000 non-null  int64 \n",
            " 12  Risk_Flag          252000 non-null  int64 \n",
            "dtypes: int64(7), object(6)\n",
            "memory usage: 25.0+ MB\n"
          ]
        }
      ]
    },
    {
      "cell_type": "markdown",
      "source": [
        "### Data preprocessing\n",
        "\n",
        "We want to convert the CSV file to npz. This will enable our tensorflow model see the data as tensors."
      ],
      "metadata": {
        "id": "7Zfi6vxUekCT"
      }
    },
    {
      "cell_type": "code",
      "source": [
        "le = LabelEncoder()\n",
        "data['Married/Single'] = le.fit_transform(data['Married/Single'])\n",
        "data['House_Ownership'] = le.fit_transform(data['House_Ownership'])\n",
        "data['Car_Ownership'] = le.fit_transform(data['Car_Ownership'])\n",
        "data['Profession'] = le.fit_transform(data['Profession'])\n",
        "data['CITY'] = le.fit_transform(data['CITY'])\n",
        "data['STATE'] = le.fit_transform(data['STATE'])\n",
        "\n",
        "data.head()"
      ],
      "metadata": {
        "colab": {
          "base_uri": "https://localhost:8080/",
          "height": 270
        },
        "id": "ZXrk134oefos",
        "outputId": "5209081a-3885-4bd1-d4f2-375ec5e7087a"
      },
      "execution_count": 5,
      "outputs": [
        {
          "output_type": "execute_result",
          "data": {
            "text/plain": [
              "   Id   Income  Age  Experience  Married/Single  House_Ownership  \\\n",
              "0   1  1303834   23           3               1                2   \n",
              "1   2  7574516   40          10               1                2   \n",
              "2   3  3991815   66           4               0                2   \n",
              "3   4  6256451   41           2               1                2   \n",
              "4   5  5768871   47          11               1                2   \n",
              "\n",
              "   Car_Ownership  Profession  CITY  STATE  CURRENT_JOB_YRS  CURRENT_HOUSE_YRS  \\\n",
              "0              0          33   251     13                3                 13   \n",
              "1              0          43   227     14                9                 13   \n",
              "2              0          47     8     12                4                 10   \n",
              "3              1          43    54     17                2                 12   \n",
              "4              0          11   296     22                3                 14   \n",
              "\n",
              "   Risk_Flag  \n",
              "0          0  \n",
              "1          0  \n",
              "2          0  \n",
              "3          1  \n",
              "4          1  "
            ],
            "text/html": [
              "\n",
              "  <div id=\"df-c7d3b7f7-1ff6-4ae9-8774-448d138c66ef\">\n",
              "    <div class=\"colab-df-container\">\n",
              "      <div>\n",
              "<style scoped>\n",
              "    .dataframe tbody tr th:only-of-type {\n",
              "        vertical-align: middle;\n",
              "    }\n",
              "\n",
              "    .dataframe tbody tr th {\n",
              "        vertical-align: top;\n",
              "    }\n",
              "\n",
              "    .dataframe thead th {\n",
              "        text-align: right;\n",
              "    }\n",
              "</style>\n",
              "<table border=\"1\" class=\"dataframe\">\n",
              "  <thead>\n",
              "    <tr style=\"text-align: right;\">\n",
              "      <th></th>\n",
              "      <th>Id</th>\n",
              "      <th>Income</th>\n",
              "      <th>Age</th>\n",
              "      <th>Experience</th>\n",
              "      <th>Married/Single</th>\n",
              "      <th>House_Ownership</th>\n",
              "      <th>Car_Ownership</th>\n",
              "      <th>Profession</th>\n",
              "      <th>CITY</th>\n",
              "      <th>STATE</th>\n",
              "      <th>CURRENT_JOB_YRS</th>\n",
              "      <th>CURRENT_HOUSE_YRS</th>\n",
              "      <th>Risk_Flag</th>\n",
              "    </tr>\n",
              "  </thead>\n",
              "  <tbody>\n",
              "    <tr>\n",
              "      <th>0</th>\n",
              "      <td>1</td>\n",
              "      <td>1303834</td>\n",
              "      <td>23</td>\n",
              "      <td>3</td>\n",
              "      <td>1</td>\n",
              "      <td>2</td>\n",
              "      <td>0</td>\n",
              "      <td>33</td>\n",
              "      <td>251</td>\n",
              "      <td>13</td>\n",
              "      <td>3</td>\n",
              "      <td>13</td>\n",
              "      <td>0</td>\n",
              "    </tr>\n",
              "    <tr>\n",
              "      <th>1</th>\n",
              "      <td>2</td>\n",
              "      <td>7574516</td>\n",
              "      <td>40</td>\n",
              "      <td>10</td>\n",
              "      <td>1</td>\n",
              "      <td>2</td>\n",
              "      <td>0</td>\n",
              "      <td>43</td>\n",
              "      <td>227</td>\n",
              "      <td>14</td>\n",
              "      <td>9</td>\n",
              "      <td>13</td>\n",
              "      <td>0</td>\n",
              "    </tr>\n",
              "    <tr>\n",
              "      <th>2</th>\n",
              "      <td>3</td>\n",
              "      <td>3991815</td>\n",
              "      <td>66</td>\n",
              "      <td>4</td>\n",
              "      <td>0</td>\n",
              "      <td>2</td>\n",
              "      <td>0</td>\n",
              "      <td>47</td>\n",
              "      <td>8</td>\n",
              "      <td>12</td>\n",
              "      <td>4</td>\n",
              "      <td>10</td>\n",
              "      <td>0</td>\n",
              "    </tr>\n",
              "    <tr>\n",
              "      <th>3</th>\n",
              "      <td>4</td>\n",
              "      <td>6256451</td>\n",
              "      <td>41</td>\n",
              "      <td>2</td>\n",
              "      <td>1</td>\n",
              "      <td>2</td>\n",
              "      <td>1</td>\n",
              "      <td>43</td>\n",
              "      <td>54</td>\n",
              "      <td>17</td>\n",
              "      <td>2</td>\n",
              "      <td>12</td>\n",
              "      <td>1</td>\n",
              "    </tr>\n",
              "    <tr>\n",
              "      <th>4</th>\n",
              "      <td>5</td>\n",
              "      <td>5768871</td>\n",
              "      <td>47</td>\n",
              "      <td>11</td>\n",
              "      <td>1</td>\n",
              "      <td>2</td>\n",
              "      <td>0</td>\n",
              "      <td>11</td>\n",
              "      <td>296</td>\n",
              "      <td>22</td>\n",
              "      <td>3</td>\n",
              "      <td>14</td>\n",
              "      <td>1</td>\n",
              "    </tr>\n",
              "  </tbody>\n",
              "</table>\n",
              "</div>\n",
              "      <button class=\"colab-df-convert\" onclick=\"convertToInteractive('df-c7d3b7f7-1ff6-4ae9-8774-448d138c66ef')\"\n",
              "              title=\"Convert this dataframe to an interactive table.\"\n",
              "              style=\"display:none;\">\n",
              "        \n",
              "  <svg xmlns=\"http://www.w3.org/2000/svg\" height=\"24px\"viewBox=\"0 0 24 24\"\n",
              "       width=\"24px\">\n",
              "    <path d=\"M0 0h24v24H0V0z\" fill=\"none\"/>\n",
              "    <path d=\"M18.56 5.44l.94 2.06.94-2.06 2.06-.94-2.06-.94-.94-2.06-.94 2.06-2.06.94zm-11 1L8.5 8.5l.94-2.06 2.06-.94-2.06-.94L8.5 2.5l-.94 2.06-2.06.94zm10 10l.94 2.06.94-2.06 2.06-.94-2.06-.94-.94-2.06-.94 2.06-2.06.94z\"/><path d=\"M17.41 7.96l-1.37-1.37c-.4-.4-.92-.59-1.43-.59-.52 0-1.04.2-1.43.59L10.3 9.45l-7.72 7.72c-.78.78-.78 2.05 0 2.83L4 21.41c.39.39.9.59 1.41.59.51 0 1.02-.2 1.41-.59l7.78-7.78 2.81-2.81c.8-.78.8-2.07 0-2.86zM5.41 20L4 18.59l7.72-7.72 1.47 1.35L5.41 20z\"/>\n",
              "  </svg>\n",
              "      </button>\n",
              "      \n",
              "  <style>\n",
              "    .colab-df-container {\n",
              "      display:flex;\n",
              "      flex-wrap:wrap;\n",
              "      gap: 12px;\n",
              "    }\n",
              "\n",
              "    .colab-df-convert {\n",
              "      background-color: #E8F0FE;\n",
              "      border: none;\n",
              "      border-radius: 50%;\n",
              "      cursor: pointer;\n",
              "      display: none;\n",
              "      fill: #1967D2;\n",
              "      height: 32px;\n",
              "      padding: 0 0 0 0;\n",
              "      width: 32px;\n",
              "    }\n",
              "\n",
              "    .colab-df-convert:hover {\n",
              "      background-color: #E2EBFA;\n",
              "      box-shadow: 0px 1px 2px rgba(60, 64, 67, 0.3), 0px 1px 3px 1px rgba(60, 64, 67, 0.15);\n",
              "      fill: #174EA6;\n",
              "    }\n",
              "\n",
              "    [theme=dark] .colab-df-convert {\n",
              "      background-color: #3B4455;\n",
              "      fill: #D2E3FC;\n",
              "    }\n",
              "\n",
              "    [theme=dark] .colab-df-convert:hover {\n",
              "      background-color: #434B5C;\n",
              "      box-shadow: 0px 1px 3px 1px rgba(0, 0, 0, 0.15);\n",
              "      filter: drop-shadow(0px 1px 2px rgba(0, 0, 0, 0.3));\n",
              "      fill: #FFFFFF;\n",
              "    }\n",
              "  </style>\n",
              "\n",
              "      <script>\n",
              "        const buttonEl =\n",
              "          document.querySelector('#df-c7d3b7f7-1ff6-4ae9-8774-448d138c66ef button.colab-df-convert');\n",
              "        buttonEl.style.display =\n",
              "          google.colab.kernel.accessAllowed ? 'block' : 'none';\n",
              "\n",
              "        async function convertToInteractive(key) {\n",
              "          const element = document.querySelector('#df-c7d3b7f7-1ff6-4ae9-8774-448d138c66ef');\n",
              "          const dataTable =\n",
              "            await google.colab.kernel.invokeFunction('convertToInteractive',\n",
              "                                                     [key], {});\n",
              "          if (!dataTable) return;\n",
              "\n",
              "          const docLinkHtml = 'Like what you see? Visit the ' +\n",
              "            '<a target=\"_blank\" href=https://colab.research.google.com/notebooks/data_table.ipynb>data table notebook</a>'\n",
              "            + ' to learn more about interactive tables.';\n",
              "          element.innerHTML = '';\n",
              "          dataTable['output_type'] = 'display_data';\n",
              "          await google.colab.output.renderOutput(dataTable, element);\n",
              "          const docLink = document.createElement('div');\n",
              "          docLink.innerHTML = docLinkHtml;\n",
              "          element.appendChild(docLink);\n",
              "        }\n",
              "      </script>\n",
              "    </div>\n",
              "  </div>\n",
              "  "
            ]
          },
          "metadata": {},
          "execution_count": 5
        }
      ]
    },
    {
      "cell_type": "code",
      "source": [
        "data.to_csv('/content/drive/MyDrive/Dataset/initial_clean.csv', index=False, header=False)"
      ],
      "metadata": {
        "id": "b1DtxQ-hgYfv"
      },
      "execution_count": 6,
      "outputs": []
    },
    {
      "cell_type": "markdown",
      "source": [
        "### Load the data"
      ],
      "metadata": {
        "id": "eqz_H8J0hqtE"
      }
    },
    {
      "cell_type": "code",
      "source": [
        "raw_data = np.loadtxt('/content/drive/MyDrive/Dataset/initial_clean.csv', delimiter=',')\n",
        "raw_data[:10]"
      ],
      "metadata": {
        "colab": {
          "base_uri": "https://localhost:8080/"
        },
        "id": "tNSlaUzIhaBM",
        "outputId": "4e62c66b-cc03-418a-cdfa-99f35e85d051"
      },
      "execution_count": 7,
      "outputs": [
        {
          "output_type": "execute_result",
          "data": {
            "text/plain": [
              "array([[1.000000e+00, 1.303834e+06, 2.300000e+01, 3.000000e+00,\n",
              "        1.000000e+00, 2.000000e+00, 0.000000e+00, 3.300000e+01,\n",
              "        2.510000e+02, 1.300000e+01, 3.000000e+00, 1.300000e+01,\n",
              "        0.000000e+00],\n",
              "       [2.000000e+00, 7.574516e+06, 4.000000e+01, 1.000000e+01,\n",
              "        1.000000e+00, 2.000000e+00, 0.000000e+00, 4.300000e+01,\n",
              "        2.270000e+02, 1.400000e+01, 9.000000e+00, 1.300000e+01,\n",
              "        0.000000e+00],\n",
              "       [3.000000e+00, 3.991815e+06, 6.600000e+01, 4.000000e+00,\n",
              "        0.000000e+00, 2.000000e+00, 0.000000e+00, 4.700000e+01,\n",
              "        8.000000e+00, 1.200000e+01, 4.000000e+00, 1.000000e+01,\n",
              "        0.000000e+00],\n",
              "       [4.000000e+00, 6.256451e+06, 4.100000e+01, 2.000000e+00,\n",
              "        1.000000e+00, 2.000000e+00, 1.000000e+00, 4.300000e+01,\n",
              "        5.400000e+01, 1.700000e+01, 2.000000e+00, 1.200000e+01,\n",
              "        1.000000e+00],\n",
              "       [5.000000e+00, 5.768871e+06, 4.700000e+01, 1.100000e+01,\n",
              "        1.000000e+00, 2.000000e+00, 0.000000e+00, 1.100000e+01,\n",
              "        2.960000e+02, 2.200000e+01, 3.000000e+00, 1.400000e+01,\n",
              "        1.000000e+00],\n",
              "       [6.000000e+00, 6.915937e+06, 6.400000e+01, 0.000000e+00,\n",
              "        1.000000e+00, 2.000000e+00, 0.000000e+00, 1.100000e+01,\n",
              "        1.300000e+02, 1.400000e+01, 0.000000e+00, 1.200000e+01,\n",
              "        0.000000e+00],\n",
              "       [7.000000e+00, 3.954973e+06, 5.800000e+01, 1.400000e+01,\n",
              "        0.000000e+00, 2.000000e+00, 0.000000e+00, 3.100000e+01,\n",
              "        2.990000e+02, 2.200000e+01, 8.000000e+00, 1.200000e+01,\n",
              "        0.000000e+00],\n",
              "       [8.000000e+00, 1.706172e+06, 3.300000e+01, 2.000000e+00,\n",
              "        1.000000e+00, 2.000000e+00, 0.000000e+00, 2.000000e+01,\n",
              "        1.340000e+02, 6.000000e+00, 2.000000e+00, 1.400000e+01,\n",
              "        0.000000e+00],\n",
              "       [9.000000e+00, 7.566849e+06, 2.400000e+01, 1.700000e+01,\n",
              "        1.000000e+00, 2.000000e+00, 1.000000e+00, 2.500000e+01,\n",
              "        1.650000e+02, 2.000000e+01, 1.100000e+01, 1.100000e+01,\n",
              "        0.000000e+00],\n",
              "       [1.000000e+01, 8.964846e+06, 2.300000e+01, 1.200000e+01,\n",
              "        1.000000e+00, 2.000000e+00, 0.000000e+00, 2.000000e+00,\n",
              "        1.490000e+02, 2.300000e+01, 5.000000e+00, 1.300000e+01,\n",
              "        0.000000e+00]])"
            ]
          },
          "metadata": {},
          "execution_count": 7
        }
      ]
    },
    {
      "cell_type": "code",
      "source": [
        "input_all = raw_data[:,1:-1]\n",
        "target_all = raw_data[:,-1]"
      ],
      "metadata": {
        "id": "G6lUkb3Ph8vg"
      },
      "execution_count": 8,
      "outputs": []
    },
    {
      "cell_type": "code",
      "source": [
        "target_all.shape[0]"
      ],
      "metadata": {
        "colab": {
          "base_uri": "https://localhost:8080/"
        },
        "id": "cztcf6nQkgOt",
        "outputId": "8bff4d8f-bc04-4b58-ced1-645bb6bf30e2"
      },
      "execution_count": 9,
      "outputs": [
        {
          "output_type": "execute_result",
          "data": {
            "text/plain": [
              "252000"
            ]
          },
          "metadata": {},
          "execution_count": 9
        }
      ]
    },
    {
      "cell_type": "markdown",
      "source": [
        "### Balance the dataset"
      ],
      "metadata": {
        "id": "Xstr9QhQilQW"
      }
    },
    {
      "cell_type": "code",
      "source": [
        "num_of_one_target = int(np.sum(target_all))\n",
        "zero_count_target = 0\n",
        "indices_to_remove = []\n",
        "\n",
        "for i in range(target_all.shape[0]):\n",
        "  if target_all[i] == 0:\n",
        "    zero_count_target += 1\n",
        "    if zero_count_target > num_of_one_target:\n",
        "      indices_to_remove.append(i)\n",
        "\n",
        "input_all_equal_prior = np.delete(input_all, indices_to_remove, axis=0)\n",
        "target_all_equal_prior = np.delete(target_all, indices_to_remove, axis=0)"
      ],
      "metadata": {
        "id": "x41F2OQej1GH"
      },
      "execution_count": 10,
      "outputs": []
    },
    {
      "cell_type": "markdown",
      "source": [
        "## Scale the data"
      ],
      "metadata": {
        "id": "YS0CuB0Mm74T"
      }
    },
    {
      "cell_type": "code",
      "source": [
        "scaled_input = preprocessing.scale(input_all_equal_prior)"
      ],
      "metadata": {
        "id": "hfJypOs9mkdw"
      },
      "execution_count": 11,
      "outputs": []
    },
    {
      "cell_type": "markdown",
      "source": [
        "### Shuffle the data"
      ],
      "metadata": {
        "id": "F4dthR31nJxW"
      }
    },
    {
      "cell_type": "code",
      "source": [
        "shuffled_indices = np.arange(scaled_input.shape[0])\n",
        "np.random.shuffle(shuffled_indices)\n",
        "\n",
        "shuffled_input = scaled_input[shuffled_indices]\n",
        "shuffled_target = target_all_equal_prior[shuffled_indices]"
      ],
      "metadata": {
        "id": "GNux0k6rnIc1"
      },
      "execution_count": 12,
      "outputs": []
    },
    {
      "cell_type": "markdown",
      "source": [
        "### Split the dataset into train, test and validation set"
      ],
      "metadata": {
        "id": "riS06mnyn3tO"
      }
    },
    {
      "cell_type": "code",
      "source": [
        "samples_count = shuffled_input.shape[0]\n",
        "\n",
        "train_samples_count = int(0.8 * samples_count)\n",
        "validation_samples_count = int(0.1 * samples_count)\n",
        "test_samples_count = samples_count - train_samples_count - validation_samples_count\n",
        "\n",
        "train_input = shuffled_input[:train_samples_count]\n",
        "train_target = shuffled_target[:train_samples_count]\n",
        "\n",
        "validation_input = shuffled_input[train_samples_count:train_samples_count + validation_samples_count]\n",
        "validation_target = shuffled_target[train_samples_count:train_samples_count + validation_samples_count]\n",
        "\n",
        "test_input = shuffled_input[train_samples_count + validation_samples_count:]\n",
        "test_target = shuffled_target[train_samples_count + validation_samples_count:]\n",
        "\n",
        "print(np.sum(train_target), train_samples_count, np.sum(train_target)/train_samples_count)\n",
        "print(np.sum(validation_target), validation_samples_count, np.sum(validation_target)/validation_samples_count)\n",
        "print(np.sum(test_target), test_samples_count, np.sum(test_target)/test_samples_count)"
      ],
      "metadata": {
        "colab": {
          "base_uri": "https://localhost:8080/"
        },
        "id": "ZyKElMSXn2Vb",
        "outputId": "7c10eb5e-9c33-4ebd-a005-8a7896dcd85c"
      },
      "execution_count": 13,
      "outputs": [
        {
          "output_type": "stream",
          "name": "stdout",
          "text": [
            "24828.0 49593 0.5006351702861291\n",
            "3094.0 6199 0.4991127601226004\n",
            "3074.0 6200 0.4958064516129032\n"
          ]
        }
      ]
    },
    {
      "cell_type": "markdown",
      "source": [
        "### Save the npz files"
      ],
      "metadata": {
        "id": "OwmtGqMcsjct"
      }
    },
    {
      "cell_type": "code",
      "source": [
        "np.savez('/content/drive/MyDrive/Dataset/train_loan_data', inputs=train_input, target=train_target)\n",
        "np.savez('/content/drive/MyDrive/Dataset/val_loan_data', inputs=validation_input, target=validation_target)\n",
        "np.savez('/content/drive/MyDrive/Dataset/test_loan_data', inputs=test_input, target=test_target)"
      ],
      "metadata": {
        "id": "Dux8LoQEsO-1"
      },
      "execution_count": 14,
      "outputs": []
    },
    {
      "cell_type": "code",
      "source": [],
      "metadata": {
        "id": "DN-ALZPsuXxB"
      },
      "execution_count": null,
      "outputs": []
    }
  ]
}